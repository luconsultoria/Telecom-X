{
  "cells": [
    {
      "cell_type": "markdown",
      "metadata": {
        "id": "view-in-github",
        "colab_type": "text"
      },
      "source": [
        "<a href=\"https://colab.research.google.com/github/luconsultoria/Telecom-X/blob/main/TelecomX_BR.ipynb\" target=\"_parent\"><img src=\"https://colab.research.google.com/assets/colab-badge.svg\" alt=\"Open In Colab\"/></a>"
      ]
    },
    {
      "cell_type": "markdown",
      "metadata": {
        "id": "4foVEKhrlqcH"
      },
      "source": [
        "#📌 Extracão"
      ]
    },
    {
      "cell_type": "code",
      "source": [
        "# Importação de bibliotecas\n",
        "import json\n",
        "import pandas as pd\n",
        "import numpy as np\n",
        "import seaborn as sns\n",
        "import matplotlib.pyplot as plt\n",
        "\n",
        "# Configuração de visualização\n",
        "sns.set(style='whitegrid')\n",
        "plt.rcParams['figure.figsize'] = (10, 6)\n",
        "\n",
        "# Supondo que raw_data deve ser carregado de um arquivo chamado 'data.json'.\n",
        "# Substituindo 'data.json' pelo caminho real do arquivo se for diferente,\n",
        "tentar:\n",
        "    with open('data.json', 'r') as f:\n",
        "        raw_data = json.load(f)\n",
        "except FileNotFoundError:\n",
        "    print(\"Error: 'data.json' not found. Please provide the correct file path for the raw data.\")\n",
        "    raw_data = [] # Inicialize com uma lista vazia para evitar erros futuros\n",
        "\n",
        "df = pd.json_normalize(raw_data)"
      ],
      "metadata": {
        "id": "06ifE1OdZSmY",
        "colab": {
          "base_uri": "https://localhost:8080/"
        },
        "collapsed": true,
        "outputId": "2610ebf8-a51d-4c46-ac6e-43a8979abb29"
      },
      "execution_count": null,
      "outputs": [
        {
          "output_type": "stream",
          "name": "stdout",
          "text": [
            "Error: 'data.json' not found. Please provide the correct file path for the raw data.\n"
          ]
        }
      ]
    },
    {
      "cell_type": "markdown",
      "source": [
        "## EXTRAÇÃO E CONFIGURAÇÃO DOS DADOS ##\n",
        "Este notebook apresenta uma análise de churn (evasão de clientes) da empresa TelecomX, através da extração e configuração dos dados de uma API, com o objetivo de identificar padrões nos dados de clientes que cancelaram os serviços e fornecer recomendações para ajudar na retenção de usuários.\n"
      ],
      "metadata": {
        "id": "fB5nI7Vadrqx"
      }
    },
    {
      "cell_type": "markdown",
      "source": [],
      "metadata": {
        "id": "3L_BLhw8dd5U"
      }
    },
    {
      "cell_type": "markdown",
      "metadata": {
        "id": "1lSZP8zmmGZu"
      },
      "source": [
        "#🔧 Transformação"
      ]
    },
    {
      "cell_type": "code",
      "execution_count": null,
      "metadata": {
        "id": "bsm-WTLjmHvt"
      },
      "outputs": [],
      "source": [
        "# Renomear colunas para remover prefixos\n",
        "df.columns = [col.replace(\"customer.\", \"\").replace(\"phone.\", \"\").replace(\"internet.\", \"\").replace(\"account.\", \"\").replace(\"Charges.\", \"Charges_\") for col in df.columns]\n",
        "\n",
        "# Padronizar categorias\n",
        "cols_padronizar = ['OnlineSecurity','OnlineBackup','DeviceProtection','TechSupport','StreamingTV','StreamingMovies','MultipleLines']\n",
        "for col in cols_padronizar:\n",
        "    if col in df.columns:\n",
        "        df[col] = df[col].replace({'No internet service': 'No', 'No phone service': 'No'})\n",
        "\n",
        "# Converter variáveis binárias\n",
        "binarias = ['SeniorCitizen', 'Partner', 'Dependents', 'PhoneService', 'PaperlessBilling']\n",
        "for col in binarias:\n",
        "    if col in df.columns:\n",
        "        if df[col].dtype == 'object':\n",
        "            df[col] = df[col].map({'Yes': 1, 'No': 0})\n",
        "\n",
        "df_final = df.copy()"
      ]
    },
    {
      "cell_type": "markdown",
      "source": [
        "## Transformação dos Dados\n",
        "Nesta etapa, foi realizado a limpeza, normalização e conversão de tipos para garantir uma base de dados confiável para a análise.\n"
      ],
      "metadata": {
        "id": "S032SYlverZR"
      }
    },
    {
      "cell_type": "markdown",
      "metadata": {
        "id": "6XnTC2NTmMRL"
      },
      "source": [
        "#📊 Carga e análise"
      ]
    },
    {
      "cell_type": "code",
      "execution_count": null,
      "metadata": {
        "id": "1jgUnLqTmPdd"
      },
      "outputs": [],
      "source": [
        "df_final = df.copy()\n",
        "\n",
        "# Converter a coluna 'Churn' para numérica (0 para 'Não' e 1 para 'Sim')\n",
        "df_final['Churn'] = df_final['Churn'].map({'Yes': 1, 'No': 0})\n",
        "\n",
        "# Taxa de churn\n",
        "taxa_churn = df_final['Churn'].mean() * 100\n",
        "print(\"Taxa de churn (%):\", round(taxa_churn, 2))\n",
        "\n",
        "# Distribuição de churn\n",
        "sns.countplot(data=df_final, x='Churn')\n",
        "plt.title('Distribuição de Churn')\n",
        "plt.xticks([0, 1], ['Não', 'Sim'])\n",
        "plt.show()\n",
        "\n",
        "# Contrato x Churn\n",
        "sns.countplot(data=df_final, x='Contract', hue='Churn')\n",
        "plt.title('Churn por Tipo de Contrato')\n",
        "plt.show()\n",
        "\n",
        "# Forma de pagamento x Churn\n",
        "sns.countplot(data=df_final, x='PaymentMethod', hue='Churn')\n",
        "plt.xticks(rotation=45)\n",
        "plt.title('Churn por Forma de Pagamento')\n",
        "plt.show()\n",
        "\n",
        "# Análise de Tenure\n",
        "print(\"\\nEstatísticas de Tenure por categoria de Churn:\")\n",
        "print(df_final.groupby('Churn')['tenure'].describe())\n",
        "print(\"\\nValores únicos de Tenure por categoria de Churn:\")\n",
        "print(df_final.groupby('Churn')['tenure'].nunique())\n",
        "print(\"\\nValores ausentes em Tenure por categoria de Churn:\")\n",
        "print(df_final.groupby('Churn')['tenure'].apply(lambda x: x.isnull().sum()))\n",
        "\n",
        "# Distribuição de Tenure\n",
        "sns.histplot(data=df_final, x='tenure', hue='Churn', bins=30, kde=True)\n",
        "plt.title('Distribuição de Tenure por Churn')\n",
        "plt.show()\n",
        "\n",
        "# Tipo de internet x Churn\n",
        "sns.countplot(data=df_final, x='InternetService', hue='Churn')\n",
        "plt.title('Churn por Tipo de Internet')\n",
        "plt.show()\n",
        "\n",
        "# Gastos Totais x Churn\n",
        "sns.boxplot(data=df_final, x='Churn', y='Charges_Total')\n",
        "plt.title('Gastos Totais por Churn')\n",
        "plt.xticks([0, 1], ['Não', 'Sim'])\n",
        "plt.show()\n",
        "\n",
        "# Correlação com Churn\n",
        "corr = df_final.corr(numeric_only=True)\n",
        "sns.heatmap(corr[['Churn']].sort_values(by='Churn', ascending=False), annot=True, cmap='coolwarm')\n",
        "plt.title('Correlação com Churn')\n",
        "plt.show()"
      ]
    },
    {
      "cell_type": "markdown",
      "source": [],
      "metadata": {
        "id": "BI4v9mHCi-PQ"
      }
    },
    {
      "cell_type": "markdown",
      "source": [
        "## ANALISAR E INVESTIGAR O CHURN ##\n",
        "Investigar a distribuição do churn e sua relação com outras variáveis.\n",
        "\n",
        "# * Distribuição do Churn #\n",
        "•\tCerca de 26% dos clientes abandonaram a empresa.\n",
        "\n",
        "•\tAlta taxa para um serviço de assinatura.\n",
        "\n",
        "# * Perfil dos Clientes com Maior Evasão #\n",
        "•\tClientes com contratos Month-to-month têm a maior taxa de churn.\n",
        "\n",
        "•\tElectronic check como forma de pagamento está fortemente associada a maior evasão.\n",
        "\n",
        "•\tClientes com tenure (tempo de contrato) menor que 12 meses têm maior propensão ao churn.\n",
        "\n",
        "•\tUsuários de internet via Fiber optic também apresentam maior evasão.\n"
      ],
      "metadata": {
        "id": "_Df-nHKBfnKT"
      }
    },
    {
      "cell_type": "markdown",
      "metadata": {
        "id": "v-WzfSvTmaw9"
      },
      "source": [
        "#📄Relatorio Final"
      ]
    },
    {
      "cell_type": "markdown",
      "source": [
        "## Principais Achados( INSIGHTS): ##\n",
        "\n",
        "* Contratos mensais são vulneráveis à evasão.\n",
        "\n",
        "* Clientes com baixa fidelização (baixo tenure) são mais voláteis.\n",
        "\n",
        "* Alto valor de cobrança mensal não necessariamente aumenta o churn, mas combinado com contratos curtos e cobrança eletrônica, sim.\n",
        "\n",
        "* A falta de serviços adicionais (como suporte técnico ou segurança online) também influencia negativamente.\n",
        "\n",
        "## Sugestões para Reduzir o Churn (CONCLUSÕES) ##\n",
        "\n",
        "* Criar campanhas de fidelização para clientes com menos de 12 meses de contrato.\n",
        "\n",
        "* Incentivar planos de contrato anual ou bienal com descontos.\n",
        "\n",
        "* Oferecer benefícios ou pacotes promocionais para quem usa pagamento por Electronic check.\n",
        "\n",
        "* Estimular o uso de serviços adicionais como segurança online e suporte técnico.\n",
        "\n",
        "* Implementar um sistema de alerta precoce para clientes com alta propensão de evasão (com base nos padrões identificados).\n",
        "\n"
      ],
      "metadata": {
        "id": "HG7jK8RZcFnM"
      }
    },
    {
      "cell_type": "markdown",
      "source": [],
      "metadata": {
        "id": "DEkXzd-WaE8e"
      }
    },
    {
      "cell_type": "markdown",
      "source": [],
      "metadata": {
        "id": "UM7v1L7ob-wC"
      }
    }
  ],
  "metadata": {
    "colab": {
      "provenance": [],
      "include_colab_link": true
    },
    "kernelspec": {
      "display_name": "Python 3",
      "name": "python3"
    },
    "language_info": {
      "name": "python"
    }
  },
  "nbformat": 4,
  "nbformat_minor": 0
}